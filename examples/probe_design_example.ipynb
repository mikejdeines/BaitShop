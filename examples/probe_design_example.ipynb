{
 "cells": [
  {
   "cell_type": "code",
   "execution_count": 1,
   "id": "c8a9a64a",
   "metadata": {},
   "outputs": [
    {
     "name": "stdout",
     "output_type": "stream",
     "text": [
      "--2025-05-25 15:15:29--  https://ftp.ensembl.org/pub/release-114/fasta/mus_musculus/cdna/Mus_musculus.GRCm39.cdna.all.fa.gz\n",
      "Resolving ftp.ensembl.org (ftp.ensembl.org)... 193.62.193.169\n",
      "Connecting to ftp.ensembl.org (ftp.ensembl.org)|193.62.193.169|:443... connected.\n",
      "HTTP request sent, awaiting response... 200 OK\n",
      "Length: 50893631 (49M) [application/x-gzip]\n",
      "Saving to: ‘Mus_musculus.GRCm39.cdna.all.fa.gz’\n",
      "\n",
      "Mus_musculus.GRCm39 100%[===================>]  48.54M  4.79MB/s    in 11s     \n",
      "\n",
      "2025-05-25 15:15:40 (4.51 MB/s) - ‘Mus_musculus.GRCm39.cdna.all.fa.gz’ saved [50893631/50893631]\n",
      "\n",
      "--2025-05-25 15:15:41--  https://ftp.ensembl.org/pub/release-114/fasta/mus_musculus/ncrna/Mus_musculus.GRCm39.ncrna.fa.gz\n",
      "Resolving ftp.ensembl.org (ftp.ensembl.org)... 193.62.193.169\n",
      "Connecting to ftp.ensembl.org (ftp.ensembl.org)|193.62.193.169|:443... connected.\n",
      "HTTP request sent, awaiting response... 200 OK\n",
      "Length: 28414607 (27M) [application/x-gzip]\n",
      "Saving to: ‘Mus_musculus.GRCm39.ncrna.fa.gz’\n",
      "\n",
      "Mus_musculus.GRCm39 100%[===================>]  27.10M  2.70MB/s    in 8.1s    \n",
      "\n",
      "2025-05-25 15:15:49 (3.34 MB/s) - ‘Mus_musculus.GRCm39.ncrna.fa.gz’ saved [28414607/28414607]\n",
      "\n"
     ]
    }
   ],
   "source": [
    "!wget https://ftp.ensembl.org/pub/release-114/fasta/mus_musculus/cdna/Mus_musculus.GRCm39.cdna.all.fa.gz\n",
    "!gunzip Mus_musculus.GRCm39.cdna.all.fa.gz\n",
    "!wget https://ftp.ensembl.org/pub/release-114/fasta/mus_musculus/ncrna/Mus_musculus.GRCm39.ncrna.fa.gz\n",
    "!gunzip Mus_musculus.GRCm39.ncrna.fa.gz"
   ]
  },
  {
   "cell_type": "code",
   "execution_count": 2,
   "id": "2f0f8b75",
   "metadata": {},
   "outputs": [],
   "source": [
    "# Import libraries\n",
    "from Bio import SeqIO\n",
    "import pandas as pd\n",
    "from baitshop import probe_design as p_d"
   ]
  },
  {
   "cell_type": "code",
   "execution_count": 3,
   "id": "85b06aef",
   "metadata": {},
   "outputs": [],
   "source": [
    "codebook = pd.read_csv('data/codebook_standardized.csv')\n",
    "fasta_file = 'Mus_musculus.GRCm39.cdna.all.fa'\n",
    "sequences = {record.id: str(record.seq) for record in SeqIO.parse(fasta_file, \"fasta\")}\n",
    "readout_fasta = 'data/readouts.fasta'\n",
    "readouts = {record.id: str(record.seq) for record in SeqIO.parse(readout_fasta, \"fasta\")}"
   ]
  },
  {
   "cell_type": "code",
   "execution_count": 4,
   "id": "fae37ee9",
   "metadata": {},
   "outputs": [
    {
     "data": {
      "text/plain": [
       "{'RS0015': 'ATCCTCCTTCAATACATCCC',\n",
       " 'RS0083': 'ACACTACCACCATTTCCTAT',\n",
       " 'RS0095': 'ACTCCACTACTACTCACTCT',\n",
       " 'RS0109': 'ACCCTCTAACTTCCATCACA'}"
      ]
     },
     "execution_count": 4,
     "metadata": {},
     "output_type": "execute_result"
    }
   ],
   "source": [
    "readouts"
   ]
  },
  {
   "cell_type": "code",
   "execution_count": 5,
   "id": "5db26560",
   "metadata": {},
   "outputs": [
    {
     "data": {
      "text/html": [
       "<div>\n",
       "<style scoped>\n",
       "    .dataframe tbody tr th:only-of-type {\n",
       "        vertical-align: middle;\n",
       "    }\n",
       "\n",
       "    .dataframe tbody tr th {\n",
       "        vertical-align: top;\n",
       "    }\n",
       "\n",
       "    .dataframe thead th {\n",
       "        text-align: right;\n",
       "    }\n",
       "</style>\n",
       "<table border=\"1\" class=\"dataframe\">\n",
       "  <thead>\n",
       "    <tr style=\"text-align: right;\">\n",
       "      <th></th>\n",
       "      <th>name</th>\n",
       "      <th>id</th>\n",
       "      <th>RS0015</th>\n",
       "      <th>RS0083</th>\n",
       "      <th>RS0095</th>\n",
       "      <th>RS0109</th>\n",
       "    </tr>\n",
       "  </thead>\n",
       "  <tbody>\n",
       "    <tr>\n",
       "      <th>0</th>\n",
       "      <td>Rorb</td>\n",
       "      <td>ENSMUST00000112832.8</td>\n",
       "      <td>1</td>\n",
       "      <td>1</td>\n",
       "      <td>1</td>\n",
       "      <td>0</td>\n",
       "    </tr>\n",
       "    <tr>\n",
       "      <th>1</th>\n",
       "      <td>Cux2</td>\n",
       "      <td>ENSMUST00000086317.12</td>\n",
       "      <td>1</td>\n",
       "      <td>1</td>\n",
       "      <td>0</td>\n",
       "      <td>1</td>\n",
       "    </tr>\n",
       "    <tr>\n",
       "      <th>2</th>\n",
       "      <td>Rbp4</td>\n",
       "      <td>ENSMUST00000112335.4</td>\n",
       "      <td>1</td>\n",
       "      <td>0</td>\n",
       "      <td>1</td>\n",
       "      <td>1</td>\n",
       "    </tr>\n",
       "  </tbody>\n",
       "</table>\n",
       "</div>"
      ],
      "text/plain": [
       "   name                     id  RS0015  RS0083  RS0095  RS0109\n",
       "0  Rorb   ENSMUST00000112832.8       1       1       1       0\n",
       "1  Cux2  ENSMUST00000086317.12       1       1       0       1\n",
       "2  Rbp4   ENSMUST00000112335.4       1       0       1       1"
      ]
     },
     "execution_count": 5,
     "metadata": {},
     "output_type": "execute_result"
    }
   ],
   "source": [
    "codebook"
   ]
  },
  {
   "cell_type": "code",
   "execution_count": 6,
   "id": "73851ac4",
   "metadata": {},
   "outputs": [
    {
     "name": "stdout",
     "output_type": "stream",
     "text": [
      "Filtered tRNA, rRNA, mt-tRNA, and mt-rRNA sequences saved to tRNA_rRNA.fasta\n"
     ]
    }
   ],
   "source": [
    "p_d.filter_trna_rrna(input_fasta = \"Mus_musculus.GRCm39.ncrna.fa\", output_fasta=\"tRNA_rRNA.fasta\")"
   ]
  },
  {
   "cell_type": "code",
   "execution_count": 7,
   "id": "c3b72d60",
   "metadata": {},
   "outputs": [
    {
     "name": "stdout",
     "output_type": "stream",
     "text": [
      "Rorb: 7453/9264 probes retained with homopolymeric runs of length <= 4\n",
      "Cux2: 4562/5084 probes retained with homopolymeric runs of length <= 4\n",
      "Rbp4: 835/908 probes retained with homopolymeric runs of length <= 4\n",
      "Rorb: 6388/7453 probes retained with 0.3 < GC < 0.7 and 61 < Tm < 81\n",
      "Cux2: 3703/4562 probes retained with 0.3 < GC < 0.7 and 61 < Tm < 81\n",
      "Rbp4: 670/835 probes retained with 0.3 < GC < 0.7 and 61 < Tm < 81\n",
      "Rorb: 6341/6388 probes retained after filtering by tRNA/rRNA homology\n",
      "Cux2: 3703/3703 probes retained after filtering by tRNA/rRNA homology\n",
      "Rbp4: 670/670 probes retained after filtering by tRNA/rRNA homology\n",
      "Rorb: 6341/6341 probes retained after filtering by homology threshold 0.5\n",
      "Cux2: 3703/3703 probes retained after filtering by homology threshold 0.5\n",
      "Rbp4: 665/670 probes retained after filtering by homology threshold 0.5\n",
      "Rorb: 6341/6341 probes retained after self/cross complementarity filtering\n",
      "Cux2: 3703/3703 probes retained after self/cross complementarity filtering\n",
      "Rbp4: 665/665 probes retained after self/cross complementarity filtering\n",
      "Rbp4: 665/665 probes retained after deltaG filtering\n",
      "Cux2: 3590/3703 probes retained after deltaG filtering\n",
      "Rorb: 6308/6341 probes retained after deltaG filtering\n"
     ]
    }
   ],
   "source": [
    "probes_dict = p_d.generate_probes_dict_by_gene(codebook, sequences, overlap = 29)\n",
    "probes_dict = p_d.calculate_gc_and_tm(probes_dict)\n",
    "filtered_probes = p_d.filter_probes_by_homopolymer(probes_dict, max_homopolymer_length=4)\n",
    "filtered_probes = p_d.filter_probes_by_gc_and_tm(filtered_probes)\n",
    "trna_rrna_kmers = p_d.extract_15mers_from_trna_rrna(\"tRNA_rRNA.fasta\")\n",
    "filtered_probes = p_d.filter_probes_by_trna_rrna_homology(filtered_probes, trna_rrna_kmers)\n",
    "gene_to_17mers = p_d.extract_17mers_by_gene(sequences, codebook)\n",
    "filtered_probes = p_d.filter_probes_by_homology_threshold(filtered_probes, gene_to_17mers, homology_threshold=0.5)\n",
    "filtered_probes = p_d.filter_self_and_cross_complementary_probes(filtered_probes, min_complement_length=15)\n",
    "filtered_probes_dg = p_d.filter_probes_by_deltaG_parallel(filtered_probes, min_deltaG=0, temperature=81, num_workers=16)"
   ]
  },
  {
   "cell_type": "code",
   "execution_count": 8,
   "id": "361070cc",
   "metadata": {},
   "outputs": [],
   "source": [
    "selected_probes = p_d.select_probes_greedy(filtered_probes_dg, codebook, num_probes=64, target_gc=0.5, target_tm=81)"
   ]
  },
  {
   "cell_type": "code",
   "execution_count": 9,
   "id": "4f4413f2",
   "metadata": {},
   "outputs": [
    {
     "name": "stdout",
     "output_type": "stream",
     "text": [
      "Gene: Rorb, Number of Probes: 64, Average Score: 6.40, Average Overlap: 0.00, Max Overlap: 0\n",
      "Gene: Cux2, Number of Probes: 64, Average Score: 5.04, Average Overlap: 0.00, Max Overlap: 0\n",
      "Gene: Rbp4, Number of Probes: 64, Average Score: 10.41, Average Overlap: 4.22, Max Overlap: 15\n"
     ]
    }
   ],
   "source": [
    "# Calculate and print stats for selected_probes\n",
    "for gene, probes in selected_probes.items():\n",
    "    num_probes = len(probes)\n",
    "    avg_score = sum(probe['score'] for probe in probes) / num_probes if num_probes > 0 else 0\n",
    "    avg_overlap = sum(probe['overlap'] for probe in probes) / num_probes if num_probes > 0 else 0\n",
    "    max_overlap = max((probe['overlap'] for probe in probes), default=0)\n",
    "    print(f\"Gene: {gene}, Number of Probes: {num_probes}, Average Score: {avg_score:.2f}, Average Overlap: {avg_overlap:.2f}, Max Overlap: {max_overlap}\")"
   ]
  },
  {
   "cell_type": "code",
   "execution_count": 10,
   "id": "9ffef625",
   "metadata": {},
   "outputs": [],
   "source": [
    "selected_probes = p_d.assign_readouts_to_probes(selected_probes, codebook, readouts, num_readouts=2)"
   ]
  },
  {
   "cell_type": "code",
   "execution_count": 11,
   "id": "61d98066",
   "metadata": {},
   "outputs": [],
   "source": [
    "fprimer = SeqIO.read('data/Forward_primer.fasta', 'fasta')\n",
    "rprimer = SeqIO.read('data/Reverse_primer.fasta', 'fasta')"
   ]
  },
  {
   "cell_type": "code",
   "execution_count": 12,
   "id": "82906dec",
   "metadata": {},
   "outputs": [
    {
     "name": "stdout",
     "output_type": "stream",
     "text": [
      "Probes with primers and readouts exported to test_probes.fasta\n"
     ]
    }
   ],
   "source": [
    "p_d.export_probes_to_fasta(selected_probes, readouts, fprimer, rprimer, 'test_probes.fasta')"
   ]
  }
 ],
 "metadata": {
  "kernelspec": {
   "display_name": "MERFISH_probe_design",
   "language": "python",
   "name": "python3"
  },
  "language_info": {
   "codemirror_mode": {
    "name": "ipython",
    "version": 3
   },
   "file_extension": ".py",
   "mimetype": "text/x-python",
   "name": "python",
   "nbconvert_exporter": "python",
   "pygments_lexer": "ipython3",
   "version": "3.10.17"
  }
 },
 "nbformat": 4,
 "nbformat_minor": 5
}
